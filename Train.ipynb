{
 "cells": [
  {
   "cell_type": "code",
   "execution_count": 1,
   "id": "c9010d41-5560-418b-ba93-65aafe05d357",
   "metadata": {},
   "outputs": [
    {
     "data": {
      "text/plain": [
       "'000051650-1_1_1'"
      ]
     },
     "execution_count": 1,
     "metadata": {},
     "output_type": "execute_result"
    }
   ],
   "source": [
    "with open('corpus_file.txt', 'r') as corpus_file:\n",
    "    corpus_list = corpus_file.read().splitlines()\n",
    "corpus_list[0]"
   ]
  },
  {
   "cell_type": "code",
   "execution_count": 2,
   "id": "c6143e7c",
   "metadata": {},
   "outputs": [
    {
     "name": "stdout",
     "output_type": "stream",
     "text": [
      "8767\n",
      "157822\n"
     ]
    },
    {
     "data": {
      "text/plain": [
       "'000107696-1_1_1'"
      ]
     },
     "execution_count": 2,
     "metadata": {},
     "output_type": "execute_result"
    }
   ],
   "source": [
    "val_split = 0.1\n",
    "val_idx = int(len(corpus_list) * val_split)\n",
    "training_list = corpus_list[val_idx:]\n",
    "validation_list = corpus_list[:val_idx]\n",
    "\n",
    "# training_list[0]\n",
    "\n",
    "temp = []\n",
    "for item in validation_list:\n",
    "    temp.append(\"D \" + item)\n",
    "validation_list = temp\n",
    "\n",
    "# training_list = corpus_list[1000:11000]\n",
    "# validation_list = corpus_list[:1000]\n",
    "# temp_validation_list = []\n",
    "\n",
    "print(len(validation_list))\n",
    "#Selectively choosing tests based on length:\n",
    "# for item in validation_list:\n",
    "#     with open('DataMach5/Primus/' + item + '/' + item + '.semantic', 'r') as sample_gt_file:\n",
    "#         sample_gt_words = sample_gt_file.readline().rstrip().split('\\t')\n",
    "#         if len(sample_gt_words) <= 20:\n",
    "#             temp_validation_list.append(item)\n",
    "        \n",
    "# validation_list = temp_validation_list\n",
    "# print(len(validation_list))\n",
    "\n",
    "temp = []\n",
    "for item in training_list:\n",
    "    temp.append(\"D \" + item)\n",
    "training_list += temp\n",
    "print(len(training_list))\n",
    "\n",
    "training_list[0]"
   ]
  },
  {
   "cell_type": "code",
   "execution_count": 3,
   "id": "8c4da238-2382-4991-8b06-156f2a2295b4",
   "metadata": {},
   "outputs": [],
   "source": [
    "import torch\n",
    "from torch.utils.data import Dataset\n",
    "from PIL import Image\n",
    "\n",
    "class PrimusDataset(Dataset):\n",
    "    def __init__(self, root_dir, distorted_dir, df, processor, tokenizer, max_target_length=256, semantic=True):\n",
    "        self.root_dir = root_dir\n",
    "        self.df = df\n",
    "        self.processor = processor\n",
    "        self.tokenizer = tokenizer\n",
    "        self.max_target_length = max_target_length\n",
    "        self.semantic = semantic\n",
    "        self.distorted_dir = distorted_dir\n",
    "\n",
    "    def __len__(self):\n",
    "        return len(self.df)\n",
    "\n",
    "    def __getitem__(self, idx):\n",
    "        file_name = self.df[idx]\n",
    "        isDistorted = False\n",
    "        if file_name[0] == 'D':\n",
    "            file_name =  file_name[2:]\n",
    "            isDistorted = True\n",
    "        \n",
    "        sample_fullpath = self.root_dir + '/' + file_name + '/' + file_name\n",
    "        if not self.semantic:\n",
    "            sample_gt_fullpath = 'Agnostic_encoding/' + file_name + '/' + file_name + '.agnostic'\n",
    "        else:\n",
    "            sample_gt_fullpath = sample_fullpath + '.semantic'\n",
    "        \n",
    "        with open(sample_gt_fullpath, 'r') as sample_gt_file:\n",
    "            sample_gt_words = sample_gt_file.readline().rstrip().split(self.word_separator())\n",
    "            sample_gt_plain = ' '.join(sample_gt_words)\n",
    "        \n",
    "        if isDistorted:\n",
    "            image = Image.open(self.distorted_dir + file_name + '/' + file_name + '_distorted.jpg').convert('RGB')\n",
    "        else:\n",
    "            image = Image.open(sample_fullpath + '.png').convert('RGB')\n",
    "        \n",
    "        \n",
    "        pixel_values = self.processor(image, return_tensors=\"pt\").pixel_values\n",
    "        \n",
    "        labels = self.tokenizer.tokenize(sample_gt_plain, \n",
    "                                          max_length=self.max_target_length)\n",
    "\n",
    "        labels = [label if label != self.tokenizer.pad_token_id else -100 for label in labels]\n",
    "        encoding = {\"pixel_values\": pixel_values.squeeze(), \"labels\": torch.tensor(labels)}\n",
    "#         print(encoding)\n",
    "        return encoding\n",
    "\n",
    "    @staticmethod\n",
    "    def word_separator():\n",
    "        return '\\t'\n",
    "    \n",
    "#     @staticmethod\n",
    "#     def resize(image, height):\n",
    "#         aspect_ratio = image.width / image.height\n",
    "#         new_width = int(aspect_ratio * height)\n",
    "#         resized_image = image.resize((new_width, height), Image.LANCZOS)\n",
    "#         return resized_image\n"
   ]
  },
  {
   "cell_type": "code",
   "execution_count": 4,
   "id": "c0c01ea9",
   "metadata": {},
   "outputs": [],
   "source": [
    "# from transformers import AutoTokenizer\n",
    "# tokenizer = AutoTokenizer.from_pretrained(\"microsoft/trocr-base-printed\")\n",
    "\n",
    "# word2int = {}\n",
    "\n",
    "# dict_file = open('Data/vocabulary_semantic.txt','r')\n",
    "# dict_list = dict_file.read().splitlines()\n",
    "# i=0\n",
    "# for word in dict_list:\n",
    "#     if not word in word2int:\n",
    "#         word2int[word] = i\n",
    "#         i+=1\n",
    "\n",
    "# dict_file.close()\n",
    "# new_tokens = set(word2int) - set(tokenizer.vocab.keys())\n",
    "# tokenizer.add_tokens(list(new_tokens))"
   ]
  },
  {
   "cell_type": "code",
   "execution_count": 5,
   "id": "1eeceed6-f30e-4d36-a67e-0b1c28959686",
   "metadata": {},
   "outputs": [
    {
     "name": "stdout",
     "output_type": "stream",
     "text": [
      "['<s>', '<pad>', '</s>', '<unk>', 'barline', 'clef-C1', 'clef-C2', 'clef-C3', 'clef-C4', 'clef-C5']\n",
      "[0, 4, 1745, 6, 2, 1, 1, 1, 1, 1, 1, 1, 1, 1, 1, 1, 1, 1, 1, 1, 1, 1, 1, 1, 1, 1, 1, 1, 1, 1, 1, 1, 1, 1, 1, 1, 1, 1, 1, 1, 1, 1, 1, 1, 1, 1, 1, 1, 1, 1, 1, 1, 1, 1, 1, 1, 1, 1, 1, 1, 1, 1, 1, 1, 1, 1, 1, 1, 1, 1, 1, 1, 1, 1, 1, 1, 1, 1, 1, 1, 1, 1, 1, 1, 1, 1, 1, 1, 1, 1, 1, 1, 1, 1, 1, 1, 1, 1, 1, 1, 1, 1, 1, 1, 1, 1, 1, 1, 1, 1, 1, 1, 1, 1, 1, 1, 1, 1, 1, 1, 1, 1, 1, 1, 1, 1, 1, 1, 1, 1, 1, 1, 1, 1, 1, 1, 1, 1, 1, 1, 1, 1, 1, 1, 1, 1, 1, 1, 1, 1, 1, 1, 1, 1, 1, 1, 1, 1, 1, 1, 1, 1, 1, 1, 1, 1, 1, 1, 1, 1, 1, 1, 1, 1, 1, 1, 1, 1, 1, 1, 1, 1, 1, 1, 1, 1, 1, 1, 1, 1, 1, 1, 1, 1, 1, 1, 1, 1, 1, 1, 1, 1, 1, 1, 1, 1, 1, 1, 1, 1, 1, 1, 1, 1, 1, 1, 1, 1, 1, 1, 1, 1, 1, 1, 1, 1, 1, 1, 1, 1, 1, 1, 1, 1, 1, 1, 1, 1, 1, 1, 1, 1, 1, 1, 1, 1, 1, 1, 1, 1, 1, 1, 1, 1, 1, 1]\n",
      "Detokenized text:  barline tie clef-C2\n"
     ]
    }
   ],
   "source": [
    "class SimpleTokenizer:\n",
    "    def __init__(self, vocab, pad_token='<pad>', start_token='<s>', end_token='</s>'):\n",
    "        self.vocab = vocab\n",
    "        self.pad_token_id = vocab[pad_token]\n",
    "        self.cls_token_id = vocab[start_token]\n",
    "        self.sep_token_id = vocab[end_token]\n",
    "        self.inverse_vocab = {v: k for k, v in vocab.items()}\n",
    "\n",
    "    def tokenize(self, text, max_length=None):\n",
    "        token_ids = []\n",
    "        \n",
    "        token_ids.append(self.cls_token_id)\n",
    "        \n",
    "        token_ids.extend(self.vocab[token] if token in self.vocab else self.vocab['<unk>'] for token in text.split())\n",
    "\n",
    "        token_ids.append(self.sep_token_id)\n",
    "        \n",
    "        if max_length is not None:\n",
    "            padding_length = max(0, max_length - len(token_ids))\n",
    "            token_ids.extend([self.pad_token_id] * padding_length)\n",
    "        \n",
    "        return token_ids\n",
    "\n",
    "    def detokenize(self, token_ids):\n",
    "        # Converts a list of token IDs back to a string\n",
    "        # Remove special characters\n",
    "        assert isinstance(token_ids, list), \"token_ids must be a list\"\n",
    "        tokens = [self.inverse_vocab[token_id] for token_id in token_ids if token_id in self.inverse_vocab and token_id not in [self.cls_token_id, self.sep_token_id, self.pad_token_id]]\n",
    "        return ' '.join(tokens)\n",
    "    \n",
    "    def batch_decode(self, batch_token_ids):\n",
    "        assert isinstance(batch_token_ids, list), \"batch_token_ids must be a list\"\n",
    "        decoded_strings = []\n",
    "        for token_ids in batch_token_ids:\n",
    "            decoded_strings.append(self.detokenize(token_ids))\n",
    "        return decoded_strings\n",
    "\n",
    "dict_file = open('vocabulary_semantic_modified.txt','r')\n",
    "# dict_file = open('vocabulary_agnostic_modified.txt','r')\n",
    "dict_list = dict_file.read().splitlines()\n",
    "print(list(dict_list)[:10])\n",
    "dict_file.close()\n",
    "vocab = {tok: i for i, tok in enumerate(dict_list)}\n",
    "tokenizer = SimpleTokenizer(vocab)\n",
    "text = \"barline tie clef-C2\"\n",
    "# text = \"accidental.flat-L4 dot-S-2\"\n",
    "token_ids = tokenizer.tokenize(text, max_length=256)\n",
    "print(token_ids)\n",
    "detokenized_text = tokenizer.detokenize(token_ids)\n",
    "print(\"Detokenized text: \", detokenized_text)"
   ]
  },
  {
   "cell_type": "code",
   "execution_count": 6,
   "id": "9f705494",
   "metadata": {},
   "outputs": [
    {
     "name": "stderr",
     "output_type": "stream",
     "text": [
      "/localscratch/bisman.18554872.0/lib/python3.10/site-packages/tqdm/auto.py:21: TqdmWarning: IProgress not found. Please update jupyter and ipywidgets. See https://ipywidgets.readthedocs.io/en/stable/user_install.html\n",
      "  from .autonotebook import tqdm as notebook_tqdm\n"
     ]
    }
   ],
   "source": [
    "from transformers import TrOCRProcessor\n",
    "from transformers import AutoTokenizer\n",
    "\n",
    "processor = TrOCRProcessor.from_pretrained(\"microsoft/trocr-small-handwritten\")\n",
    "# processor.feature_extractor.size = (512, 512)\n",
    "# tokenizer = AutoTokenizer.from_pretrained('tokenizer-small-new-only')\n",
    "\n",
    "train_dataset = PrimusDataset(root_dir='DataMach5/Primus',\n",
    "                            distorted_dir='CamPrIMuS/',\n",
    "                           df=training_list,\n",
    "                           processor=processor,\n",
    "                            tokenizer=tokenizer)\n",
    "val_dataset = PrimusDataset(root_dir='DataMach5/Primus',\n",
    "                            distorted_dir='CamPrIMuS/',\n",
    "                           df=validation_list,\n",
    "                           processor=processor,\n",
    "                           tokenizer=tokenizer)"
   ]
  },
  {
   "cell_type": "code",
   "execution_count": 7,
   "id": "bd99eeef",
   "metadata": {},
   "outputs": [
    {
     "name": "stdout",
     "output_type": "stream",
     "text": [
      "Number of training examples: 157822\n",
      "Number of validation examples: 8767\n"
     ]
    }
   ],
   "source": [
    "print(\"Number of training examples:\", len(train_dataset))\n",
    "print(\"Number of validation examples:\", len(val_dataset))"
   ]
  },
  {
   "cell_type": "code",
   "execution_count": 8,
   "id": "1d72b2b8",
   "metadata": {},
   "outputs": [
    {
     "name": "stdout",
     "output_type": "stream",
     "text": [
      "pixel_values torch.Size([3, 384, 384])\n",
      "labels torch.Size([256])\n"
     ]
    }
   ],
   "source": [
    "encoding = train_dataset[0]\n",
    "for k,v in encoding.items():\n",
    "  print(k, v.shape)"
   ]
  },
  {
   "cell_type": "code",
   "execution_count": 9,
   "id": "669620e8",
   "metadata": {},
   "outputs": [
    {
     "data": {
      "image/jpeg": "[encoded data removed]",
      "image/png": "[encoded data removed]",
      "text/plain": [
       "<PIL.Image.Image image mode=RGB size=602x149>"
      ]
     },
     "execution_count": 9,
     "metadata": {},
     "output_type": "execute_result"
    }
   ],
   "source": [
    "image = Image.open(train_dataset.root_dir + '/' + training_list[0] + '/' + training_list[0] + '.png').convert(\"RGB\")\n",
    "image"
   ]
  },
  {
   "cell_type": "code",
   "execution_count": 10,
   "id": "758303d4",
   "metadata": {},
   "outputs": [
    {
     "name": "stdout",
     "output_type": "stream",
     "text": [
      "clef-G2 keySignature-BbM timeSignature-C rest-eighth note-G5_eighth barline note-C6_eighth note-G5_eighth note-C5_eighth note-G4_eighth note-C5_eighth note-G4_eighth\n"
     ]
    }
   ],
   "source": [
    "labels = encoding['labels']\n",
    "\n",
    "labels[labels == -100] = tokenizer.pad_token_id\n",
    "label_str = tokenizer.detokenize(labels.tolist())\n",
    "print(label_str)"
   ]
  },
  {
   "cell_type": "code",
   "execution_count": 11,
   "id": "185a0c85",
   "metadata": {},
   "outputs": [],
   "source": [
    "from torch.utils.data import DataLoader\n",
    "\n",
    "train_dataloader = DataLoader(train_dataset, batch_size=64 ,shuffle=True, num_workers = 12)\n",
    "val_dataloader = DataLoader(val_dataset, batch_size=64, num_workers = 12)"
   ]
  },
  {
   "cell_type": "code",
   "execution_count": 12,
   "id": "1abdfda0",
   "metadata": {},
   "outputs": [
    {
     "name": "stdout",
     "output_type": "stream",
     "text": [
      "Word Error Rate: 0.8333333333333334\n"
     ]
    }
   ],
   "source": [
    "import jiwer\n",
    "\n",
    "# Example usage\n",
    "reference = \"clef-G2 keySignature-BbM   timeSignature-C rest-eighth note-G5_eighth barline note-C6_eighth note-G5_eighth note-C5_eighth note-G4_eighth note-C5_eighth note-G4_eighth\"\n",
    "hypothesis = \" clef-G2   keySignature-BbM\"\n",
    "\n",
    "wer = jiwer.wer(reference, hypothesis)\n",
    "print(\"Word Error Rate:\", wer)"
   ]
  },
  {
   "cell_type": "code",
   "execution_count": 13,
   "id": "383cc678",
   "metadata": {},
   "outputs": [],
   "source": [
    "from transformers import VisionEncoderDecoderModel\n",
    "import torch.nn as nn\n",
    "device = torch.device(\"cuda\" if torch.cuda.is_available() else \"cpu\")"
   ]
  },
  {
   "cell_type": "code",
   "execution_count": 14,
   "id": "8c8eb732-0d9c-424a-85a8-7a7eb2c04c72",
   "metadata": {},
   "outputs": [],
   "source": [
    "# import math\n",
    "# import torch.nn.functional as F\n",
    "# def resize_pos_embed(posemb, new_image_size, patch_size):\n",
    "#     # Calculate the number of patches for the new image size\n",
    "#     new_grid_height = new_image_size[0] // patch_size\n",
    "#     new_grid_width = new_image_size[1] // patch_size\n",
    "#     new_num_patches = new_grid_height * new_grid_width\n",
    "\n",
    "#     cls_token_emb = posemb[:, :2, :]\n",
    "#     posemb_grid = posemb[:, 2:, :]  # Exclude the CLS token\n",
    "\n",
    "#     # Calculate the grid size of the original posemb\n",
    "#     gs_old = int(math.sqrt(posemb_grid.shape[1]))\n",
    "    \n",
    "#     print(\"before initial reshaping\", posemb_grid.shape)\n",
    "\n",
    "#     # Reshape to [1, embedding_dim, height, width]\n",
    "#     posemb_grid = posemb_grid.reshape(1, gs_old, gs_old, -1).permute(0, 3, 1, 2)\n",
    "#     print(\"before interpolate\", posemb_grid.shape)\n",
    "\n",
    "#     # Resize to the new grid size\n",
    "#     posemb_grid = F.interpolate(posemb_grid, size=(new_grid_height, new_grid_width), mode='bicubic', align_corners=False)\n",
    "    \n",
    "#     print(\"after interpolate\", posemb_grid.shape)\n",
    "    \n",
    "#     # Reshape back to [1, num_patches, embedding_dim]\n",
    "#     posemb_grid = posemb_grid.permute(0, 2, 3, 1).reshape(1, new_grid_height*new_grid_width,-1)\n",
    "    \n",
    "#     print(\"after reshaping\", posemb_grid.shape)\n",
    "#     # Concatenate with the CLS token embedding\n",
    "#     new_posemb = torch.cat([cls_token_emb, posemb_grid], dim=1)\n",
    "#     return new_posemb"
   ]
  },
  {
   "cell_type": "code",
   "execution_count": 16,
   "id": "c6eb1cd3",
   "metadata": {},
   "outputs": [
    {
     "data": {
      "text/plain": [
       "DataParallel(\n",
       "  (module): VisionEncoderDecoderModel(\n",
       "    (encoder): DeiTModel(\n",
       "      (embeddings): DeiTEmbeddings(\n",
       "        (patch_embeddings): DeiTPatchEmbeddings(\n",
       "          (projection): Conv2d(3, 384, kernel_size=(16, 16), stride=(16, 16))\n",
       "        )\n",
       "        (dropout): Dropout(p=0.0, inplace=False)\n",
       "      )\n",
       "      (encoder): DeiTEncoder(\n",
       "        (layer): ModuleList(\n",
       "          (0-11): 12 x DeiTLayer(\n",
       "            (attention): DeiTAttention(\n",
       "              (attention): DeiTSelfAttention(\n",
       "                (query): Linear(in_features=384, out_features=384, bias=True)\n",
       "                (key): Linear(in_features=384, out_features=384, bias=True)\n",
       "                (value): Linear(in_features=384, out_features=384, bias=True)\n",
       "                (dropout): Dropout(p=0.0, inplace=False)\n",
       "              )\n",
       "              (output): DeiTSelfOutput(\n",
       "                (dense): Linear(in_features=384, out_features=384, bias=True)\n",
       "                (dropout): Dropout(p=0.0, inplace=False)\n",
       "              )\n",
       "            )\n",
       "            (intermediate): DeiTIntermediate(\n",
       "              (dense): Linear(in_features=384, out_features=1536, bias=True)\n",
       "              (intermediate_act_fn): GELUActivation()\n",
       "            )\n",
       "            (output): DeiTOutput(\n",
       "              (dense): Linear(in_features=1536, out_features=384, bias=True)\n",
       "              (dropout): Dropout(p=0.0, inplace=False)\n",
       "            )\n",
       "            (layernorm_before): LayerNorm((384,), eps=1e-12, elementwise_affine=True)\n",
       "            (layernorm_after): LayerNorm((384,), eps=1e-12, elementwise_affine=True)\n",
       "          )\n",
       "        )\n",
       "      )\n",
       "      (layernorm): LayerNorm((384,), eps=1e-12, elementwise_affine=True)\n",
       "      (pooler): DeiTPooler(\n",
       "        (dense): Linear(in_features=384, out_features=384, bias=True)\n",
       "        (activation): Tanh()\n",
       "      )\n",
       "    )\n",
       "    (decoder): TrOCRForCausalLM(\n",
       "      (model): TrOCRDecoderWrapper(\n",
       "        (decoder): TrOCRDecoder(\n",
       "          (embed_tokens): Embedding(762, 256, padding_idx=1)\n",
       "          (embed_positions): TrOCRLearnedPositionalEmbedding(514, 256)\n",
       "          (layernorm_embedding): LayerNorm((256,), eps=1e-05, elementwise_affine=True)\n",
       "          (layers): ModuleList(\n",
       "            (0-5): 6 x TrOCRDecoderLayer(\n",
       "              (self_attn): TrOCRAttention(\n",
       "                (k_proj): Linear(in_features=256, out_features=256, bias=True)\n",
       "                (v_proj): Linear(in_features=256, out_features=256, bias=True)\n",
       "                (q_proj): Linear(in_features=256, out_features=256, bias=True)\n",
       "                (out_proj): Linear(in_features=256, out_features=256, bias=True)\n",
       "              )\n",
       "              (activation_fn): ReLU()\n",
       "              (self_attn_layer_norm): LayerNorm((256,), eps=1e-05, elementwise_affine=True)\n",
       "              (encoder_attn): TrOCRAttention(\n",
       "                (k_proj): Linear(in_features=384, out_features=256, bias=True)\n",
       "                (v_proj): Linear(in_features=384, out_features=256, bias=True)\n",
       "                (q_proj): Linear(in_features=256, out_features=256, bias=True)\n",
       "                (out_proj): Linear(in_features=256, out_features=256, bias=True)\n",
       "              )\n",
       "              (encoder_attn_layer_norm): LayerNorm((256,), eps=1e-05, elementwise_affine=True)\n",
       "              (fc1): Linear(in_features=256, out_features=1024, bias=True)\n",
       "              (fc2): Linear(in_features=1024, out_features=256, bias=True)\n",
       "              (final_layer_norm): LayerNorm((256,), eps=1e-05, elementwise_affine=True)\n",
       "            )\n",
       "          )\n",
       "        )\n",
       "      )\n",
       "      (output_projection): Linear(in_features=256, out_features=762, bias=False)\n",
       "    )\n",
       "  )\n",
       ")"
      ]
     },
     "execution_count": 16,
     "metadata": {},
     "output_type": "execute_result"
    }
   ],
   "source": [
    "from transformers import VisionEncoderDecoderConfig, VisionEncoderDecoderModel, DeiTConfig, TrOCRForCausalLM\n",
    "\n",
    "# model = VisionEncoderDecoderModel.from_pretrained(\"model_trocr-small-stage1\")\n",
    "model = VisionEncoderDecoderModel.from_pretrained(\"microsoft/trocr-small-stage1\")\n",
    "# config = VisionEncoderDecoderConfig.from_pretrained(\"model_trocr-small-stage1\")\n",
    "\n",
    "\n",
    "# decoder = BartModel.from_pretrained(\"decoder-BART\").decoder\n",
    "# encoder = VisionEncoderDecoderModel.from_pretrained(\"model_trocr-small-stage1\").encoder\n",
    "# model = VisionEncoderDecoderModel(encoder=encoder, decoder=decoder)\n",
    "# config = VisionEncoderDecoderConfig.from_pretrained(\"model_trocr-small-stage1\")\n",
    "# model = VisionEncoderDecoderModel(config)\n",
    "\n",
    "# replace_relu_with_leaky_relu(model)\n",
    "model.decoder.resize_token_embeddings(len(tokenizer.vocab))\n",
    "# model.encoder.encoder.layer = nn.ModuleList(model.encoder.encoder.layer[:-6])\n",
    "# print(model.config.encoder.num_hidden_layers)\n",
    "# model.config.encoder.num_hidden_layers = 6\n",
    "# model.decoder.layers = nn.ModuleList(model.decoder.layers[:6])\n",
    "# print(model.config.decoder.num_hidden_layers)\n",
    "# model.config.decoder.num_hidden_layers = 6\n",
    "model= nn.DataParallel(model)\n",
    "model.to(device)"
   ]
  },
  {
   "cell_type": "code",
   "execution_count": 15,
   "id": "fe61134a-cbe9-4971-b310-fb2bedcce25d",
   "metadata": {},
   "outputs": [],
   "source": [
    "# from transformers import VisionEncoderDecoderConfig, VisionEncoderDecoderModel, DeiTModel\n",
    "\n",
    "# encoder = VisionEncoderDecoderModel.from_pretrained(\"model_trocr-small-stage1\").encoder\n",
    "# state_dict = encoder.state_dict()\n",
    "# config = VisionEncoderDecoderConfig.from_pretrained(\"model_trocr-small-stage1\").encoder\n",
    "# config.image_size = (512,512)\n",
    "# new_encoder = DeiTModel(config=config)\n",
    "\n",
    "# # update state_dict\n",
    "# new_state_dict = state_dict.copy()\n",
    "# old_posemb = new_state_dict['embeddings.position_embeddings']\n",
    "# print(old_posemb.shape)\n",
    "# new_posemb = resize_pos_embed(old_posemb, new_image_size=(512, 512), patch_size=16) # use PyTorch function linked above\n",
    "# print(new_posemb.shape)\n",
    "# new_state_dict['embeddings.position_embeddings'] = new_posemb\n",
    "# new_encoder.load_state_dict(new_state_dict)\n",
    "\n",
    "# decoder = VisionEncoderDecoderModel.from_pretrained(\"model_trocr-small-stage1\").decoder\n",
    "# model = VisionEncoderDecoderModel(encoder=new_encoder, decoder=decoder)\n",
    "# print(model.encoder.embeddings.position_embeddings.shape)\n",
    "# # Load the model with the updated configuration\n",
    "# model.decoder.resize_token_embeddings(len(tokenizer))\n",
    "# # model.encoder.encoder.layer = nn.ModuleList(model.encoder.encoder.layer[:-8])\n",
    "# # model.decoder.model.decoder.layers = nn.ModuleList(model.decoder.model.decoder.layers[:-8])\n",
    "# model= nn.DataParallel(model)\n",
    "# model.to(device)"
   ]
  },
  {
   "cell_type": "code",
   "execution_count": 16,
   "id": "15388f23",
   "metadata": {},
   "outputs": [],
   "source": [
    "def compute_wer(pred_ids_list, label_ids_list):\n",
    "    pred_ids_list = pred_ids_list.tolist()\n",
    "    label_ids_list = label_ids_list.tolist()\n",
    "\n",
    "    total_wer = 0\n",
    "    total_errors = 0\n",
    "    for pred_ids, label_ids in zip(pred_ids_list, label_ids_list):\n",
    "        pred_str = tokenizer.detokenize(pred_ids)\n",
    "        label_ids[label_ids == -100] = tokenizer.pad_token_id  # Handle ignore index\n",
    "        label_str = tokenizer.detokenize(label_ids)\n",
    "        temp = jiwer.wer(label_str, pred_str)\n",
    "        total_wer += temp\n",
    "        if temp > 0 :\n",
    "            total_errors += 1\n",
    "        \n",
    "    average_wer = total_wer / len(pred_ids_list)\n",
    "\n",
    "    return (average_wer , total_errors)"
   ]
  },
  {
   "cell_type": "code",
   "execution_count": 17,
   "id": "adc00c32-d51e-43aa-9a3b-2086971da560",
   "metadata": {},
   "outputs": [
    {
     "data": {
      "text/plain": [
       "137"
      ]
     },
     "execution_count": 17,
     "metadata": {},
     "output_type": "execute_result"
    }
   ],
   "source": [
    "len(val_dataloader)"
   ]
  },
  {
   "cell_type": "code",
   "execution_count": 20,
   "id": "07e59618",
   "metadata": {},
   "outputs": [],
   "source": [
    "model.module.config.decoder_start_token_id = tokenizer.cls_token_id\n",
    "model.module.config.pad_token_id = tokenizer.pad_token_id\n",
    "model.module.config.vocab_size = model.module.config.decoder.vocab_size\n",
    "\n",
    "\n",
    "model.module.config.eos_token_id = tokenizer.sep_token_id\n",
    "model.module.config.max_length = 256\n",
    "model.module.config.early_stopping = True\n",
    "model.module.config.no_repeat_ngram_size = 6\n",
    "model.module.config.length_penalty = 6.0\n",
    "model.module.config.num_beams = 4"
   ]
  },
  {
   "cell_type": "code",
   "execution_count": 18,
   "id": "591502a7-bdb5-42ee-a6b2-9279ab8617c7",
   "metadata": {},
   "outputs": [],
   "source": [
    "import os\n",
    "os.environ[\"TOKENIZERS_PARALLELISM\"] = \"false\""
   ]
  },
  {
   "cell_type": "code",
   "execution_count": null,
   "id": "3a25db59",
   "metadata": {},
   "outputs": [
    {
     "name": "stderr",
     "output_type": "stream",
     "text": [
      "  0%|          | 0/2466 [00:00<?, ?it/s]/localscratch/bisman.18348683.0/lib/python3.10/site-packages/torch/nn/parallel/_functions.py:68: UserWarning: Was asked to gather along dimension 0, but all input tensors were scalars; will instead unsqueeze and return a vector.\n",
      "  warnings.warn('Was asked to gather along dimension 0, but all '\n",
      "100%|██████████| 2466/2466 [34:17<00:00,  1.20it/s]  \n",
      "Some non-default generation parameters are set in the model config. These should go into a GenerationConfig file (https://huggingface.co/docs/transformers/generation_strategies#save-a-custom-decoding-strategy-with-your-model) instead. This warning will be raised to an exception in v4.41.\n",
      "Non-default generation parameters: {'max_length': 256, 'early_stopping': True, 'num_beams': 4, 'length_penalty': 6.0, 'no_repeat_ngram_size': 6}\n",
      "Your generation config was originally created from the model config, but the model config has changed since then. Unless you pass the `generation_config` argument to this model's `generate` calls, they will revert to the legacy behavior where the base `generate` parameterization is loaded from the model config instead. To avoid this behavior and this warning, we recommend you to overwrite the generation config model attribute before calling the model's `save_pretrained`, preferably also removing any generation kwargs from the model config. This warning will be raised to an exception in v4.41.\n"
     ]
    },
    {
     "name": "stdout",
     "output_type": "stream",
     "text": [
      " Loss after epoch 1: 3.589105556481076\n"
     ]
    },
    {
     "name": "stderr",
     "output_type": "stream",
     "text": [
      "  0%|          | 0/137 [00:00<?, ?it/s]/localscratch/bisman.18348683.0/lib/python3.10/site-packages/transformers/generation/utils.py:1197: UserWarning: You have modified the pretrained model configuration to control generation. This is a deprecated strategy to control generation and will be removed soon, in a future version. Please use and modify the model generation configuration (see https://huggingface.co/docs/transformers/generation_strategies#default-text-generation-configuration )\n",
      "  warnings.warn(\n",
      "100%|██████████| 2466/2466 [42:25<00:00,  1.03s/it]  \n",
      "Some non-default generation parameters are set in the model config. These should go into a GenerationConfig file (https://huggingface.co/docs/transformers/generation_strategies#save-a-custom-decoding-strategy-with-your-model) instead. This warning will be raised to an exception in v4.41.\n",
      "Non-default generation parameters: {'max_length': 256, 'early_stopping': True, 'num_beams': 4, 'length_penalty': 6.0, 'no_repeat_ngram_size': 6}\n"
     ]
    },
    {
     "name": "stdout",
     "output_type": "stream",
     "text": [
      " Loss after epoch 14: 0.10017038401841682\n"
     ]
    },
    {
     "name": "stderr",
     "output_type": "stream",
     "text": [
      "100%|██████████| 137/137 [09:59<00:00,  4.38s/it]\n"
     ]
    },
    {
     "name": "stdout",
     "output_type": "stream",
     "text": [
      "val dataloader length 137\n",
      "Validation SER after epoch 14: 0.0330972482209662\n",
      "Sequences with error(s): 2935\n",
      "\n"
     ]
    },
    {
     "name": "stderr",
     "output_type": "stream",
     "text": [
      "  0%|          | 0/2466 [00:00<?, ?it/s]/localscratch/bisman.18348683.0/lib/python3.10/site-packages/torch/nn/parallel/_functions.py:68: UserWarning: Was asked to gather along dimension 0, but all input tensors were scalars; will instead unsqueeze and return a vector.\n",
      "  warnings.warn('Was asked to gather along dimension 0, but all '\n",
      "100%|██████████| 2466/2466 [45:11<00:00,  1.10s/it]  \n",
      "Some non-default generation parameters are set in the model config. These should go into a GenerationConfig file (https://huggingface.co/docs/transformers/generation_strategies#save-a-custom-decoding-strategy-with-your-model) instead. This warning will be raised to an exception in v4.41.\n",
      "Non-default generation parameters: {'max_length': 256, 'early_stopping': True, 'num_beams': 4, 'length_penalty': 6.0, 'no_repeat_ngram_size': 6}\n"
     ]
    },
    {
     "name": "stdout",
     "output_type": "stream",
     "text": [
      " Loss after epoch 15: 0.08912769914887972\n"
     ]
    },
    {
     "name": "stderr",
     "output_type": "stream",
     "text": [
      "100%|██████████| 137/137 [10:08<00:00,  4.44s/it]\n"
     ]
    },
    {
     "name": "stdout",
     "output_type": "stream",
     "text": [
      "val dataloader length 137\n",
      "Validation SER after epoch 15: 0.028448373769031206\n",
      "Sequences with error(s): 2664\n",
      "\n"
     ]
    },
    {
     "name": "stderr",
     "output_type": "stream",
     "text": [
      "  0%|          | 0/2466 [00:00<?, ?it/s]/localscratch/bisman.18348683.0/lib/python3.10/site-packages/torch/nn/parallel/_functions.py:68: UserWarning: Was asked to gather along dimension 0, but all input tensors were scalars; will instead unsqueeze and return a vector.\n",
      "  warnings.warn('Was asked to gather along dimension 0, but all '\n",
      "100%|██████████| 2466/2466 [35:11<00:00,  1.17it/s]  \n",
      "Some non-default generation parameters are set in the model config. These should go into a GenerationConfig file (https://huggingface.co/docs/transformers/generation_strategies#save-a-custom-decoding-strategy-with-your-model) instead. This warning will be raised to an exception in v4.41.\n",
      "Non-default generation parameters: {'max_length': 256, 'early_stopping': True, 'num_beams': 4, 'length_penalty': 6.0, 'no_repeat_ngram_size': 6}\n"
     ]
    },
    {
     "name": "stdout",
     "output_type": "stream",
     "text": [
      " Loss after epoch 16: 0.07859715307320242\n"
     ]
    },
    {
     "name": "stderr",
     "output_type": "stream",
     "text": [
      "100%|██████████| 137/137 [10:43<00:00,  4.70s/it]\n"
     ]
    },
    {
     "name": "stdout",
     "output_type": "stream",
     "text": [
      "val dataloader length 137\n",
      "Validation SER after epoch 16: 0.02675870801385226\n",
      "Sequences with error(s): 2536\n",
      "\n"
     ]
    },
    {
     "name": "stderr",
     "output_type": "stream",
     "text": [
      "  0%|          | 0/2466 [00:00<?, ?it/s]/localscratch/bisman.18348683.0/lib/python3.10/site-packages/torch/nn/parallel/_functions.py:68: UserWarning: Was asked to gather along dimension 0, but all input tensors were scalars; will instead unsqueeze and return a vector.\n",
      "  warnings.warn('Was asked to gather along dimension 0, but all '\n",
      "100%|██████████| 2466/2466 [34:46<00:00,  1.18it/s]  \n",
      "Some non-default generation parameters are set in the model config. These should go into a GenerationConfig file (https://huggingface.co/docs/transformers/generation_strategies#save-a-custom-decoding-strategy-with-your-model) instead. This warning will be raised to an exception in v4.41.\n",
      "Non-default generation parameters: {'max_length': 256, 'early_stopping': True, 'num_beams': 4, 'length_penalty': 6.0, 'no_repeat_ngram_size': 6}\n"
     ]
    },
    {
     "name": "stdout",
     "output_type": "stream",
     "text": [
      " Loss after epoch 17: 0.07159653272923906\n"
     ]
    },
    {
     "name": "stderr",
     "output_type": "stream",
     "text": [
      "100%|██████████| 137/137 [09:48<00:00,  4.30s/it]\n"
     ]
    },
    {
     "name": "stdout",
     "output_type": "stream",
     "text": [
      "val dataloader length 137\n",
      "Validation SER after epoch 17: 0.026185994428636755\n",
      "Sequences with error(s): 2487\n",
      "\n"
     ]
    },
    {
     "name": "stderr",
     "output_type": "stream",
     "text": [
      "  0%|          | 0/2466 [00:00<?, ?it/s]/localscratch/bisman.18348683.0/lib/python3.10/site-packages/torch/nn/parallel/_functions.py:68: UserWarning: Was asked to gather along dimension 0, but all input tensors were scalars; will instead unsqueeze and return a vector.\n",
      "  warnings.warn('Was asked to gather along dimension 0, but all '\n",
      "100%|██████████| 2466/2466 [36:10<00:00,  1.14it/s]  \n",
      "Some non-default generation parameters are set in the model config. These should go into a GenerationConfig file (https://huggingface.co/docs/transformers/generation_strategies#save-a-custom-decoding-strategy-with-your-model) instead. This warning will be raised to an exception in v4.41.\n",
      "Non-default generation parameters: {'max_length': 256, 'early_stopping': True, 'num_beams': 4, 'length_penalty': 6.0, 'no_repeat_ngram_size': 6}\n"
     ]
    },
    {
     "name": "stdout",
     "output_type": "stream",
     "text": [
      " Loss after epoch 18: 0.0643137203663926\n"
     ]
    },
    {
     "name": "stderr",
     "output_type": "stream",
     "text": [
      "100%|██████████| 137/137 [10:16<00:00,  4.50s/it]\n"
     ]
    },
    {
     "name": "stdout",
     "output_type": "stream",
     "text": [
      "val dataloader length 137\n",
      "Validation SER after epoch 18: 0.025920640845020333\n",
      "Sequences with error(s): 2533\n",
      "\n"
     ]
    },
    {
     "name": "stderr",
     "output_type": "stream",
     "text": [
      "  0%|          | 0/2466 [00:00<?, ?it/s]/localscratch/bisman.18348683.0/lib/python3.10/site-packages/torch/nn/parallel/_functions.py:68: UserWarning: Was asked to gather along dimension 0, but all input tensors were scalars; will instead unsqueeze and return a vector.\n",
      "  warnings.warn('Was asked to gather along dimension 0, but all '\n",
      "100%|██████████| 2466/2466 [36:24<00:00,  1.13it/s]  \n",
      "Some non-default generation parameters are set in the model config. These should go into a GenerationConfig file (https://huggingface.co/docs/transformers/generation_strategies#save-a-custom-decoding-strategy-with-your-model) instead. This warning will be raised to an exception in v4.41.\n",
      "Non-default generation parameters: {'max_length': 256, 'early_stopping': True, 'num_beams': 4, 'length_penalty': 6.0, 'no_repeat_ngram_size': 6}\n"
     ]
    },
    {
     "name": "stdout",
     "output_type": "stream",
     "text": [
      " Loss after epoch 19: 0.06564850973256918\n"
     ]
    },
    {
     "name": "stderr",
     "output_type": "stream",
     "text": [
      "100%|██████████| 137/137 [09:49<00:00,  4.30s/it]\n"
     ]
    },
    {
     "name": "stdout",
     "output_type": "stream",
     "text": [
      "val dataloader length 137\n",
      "Validation SER after epoch 19: 0.02998853328274336\n",
      "Sequences with error(s): 2817\n",
      "\n"
     ]
    },
    {
     "name": "stderr",
     "output_type": "stream",
     "text": [
      "  0%|          | 0/2466 [00:00<?, ?it/s]/localscratch/bisman.18348683.0/lib/python3.10/site-packages/torch/nn/parallel/_functions.py:68: UserWarning: Was asked to gather along dimension 0, but all input tensors were scalars; will instead unsqueeze and return a vector.\n",
      "  warnings.warn('Was asked to gather along dimension 0, but all '\n",
      "100%|██████████| 2466/2466 [37:34<00:00,  1.09it/s]  \n",
      "Some non-default generation parameters are set in the model config. These should go into a GenerationConfig file (https://huggingface.co/docs/transformers/generation_strategies#save-a-custom-decoding-strategy-with-your-model) instead. This warning will be raised to an exception in v4.41.\n",
      "Non-default generation parameters: {'max_length': 256, 'early_stopping': True, 'num_beams': 4, 'length_penalty': 6.0, 'no_repeat_ngram_size': 6}\n"
     ]
    },
    {
     "name": "stdout",
     "output_type": "stream",
     "text": [
      " Loss after epoch 20: 0.0499016236984424\n"
     ]
    },
    {
     "name": "stderr",
     "output_type": "stream",
     "text": [
      "100%|██████████| 137/137 [09:58<00:00,  4.37s/it]\n"
     ]
    },
    {
     "name": "stdout",
     "output_type": "stream",
     "text": [
      "val dataloader length 137\n",
      "Validation SER after epoch 20: 0.030499680073096298\n",
      "Sequences with error(s): 2919\n",
      "\n"
     ]
    },
    {
     "name": "stderr",
     "output_type": "stream",
     "text": [
      "  0%|          | 0/2466 [00:00<?, ?it/s]/localscratch/bisman.18348683.0/lib/python3.10/site-packages/torch/nn/parallel/_functions.py:68: UserWarning: Was asked to gather along dimension 0, but all input tensors were scalars; will instead unsqueeze and return a vector.\n",
      "  warnings.warn('Was asked to gather along dimension 0, but all '\n",
      "100%|██████████| 2466/2466 [36:14<00:00,  1.13it/s]  \n",
      "Some non-default generation parameters are set in the model config. These should go into a GenerationConfig file (https://huggingface.co/docs/transformers/generation_strategies#save-a-custom-decoding-strategy-with-your-model) instead. This warning will be raised to an exception in v4.41.\n",
      "Non-default generation parameters: {'max_length': 256, 'early_stopping': True, 'num_beams': 4, 'length_penalty': 6.0, 'no_repeat_ngram_size': 6}\n"
     ]
    },
    {
     "name": "stdout",
     "output_type": "stream",
     "text": [
      " Loss after epoch 30: 0.027781858674491493\n"
     ]
    },
    {
     "name": "stderr",
     "output_type": "stream",
     "text": [
      "100%|██████████| 137/137 [09:51<00:00,  4.32s/it]\n"
     ]
    },
    {
     "name": "stdout",
     "output_type": "stream",
     "text": [
      "val dataloader length 137\n",
      "Validation SER after epoch 30: 0.022338010209938246\n",
      "Sequences with error(s): 2241\n",
      "\n"
     ]
    },
    {
     "name": "stderr",
     "output_type": "stream",
     "text": [
      "  0%|          | 0/2466 [00:00<?, ?it/s]/localscratch/bisman.18348683.0/lib/python3.10/site-packages/torch/nn/parallel/_functions.py:68: UserWarning: Was asked to gather along dimension 0, but all input tensors were scalars; will instead unsqueeze and return a vector.\n",
      "  warnings.warn('Was asked to gather along dimension 0, but all '\n",
      "100%|██████████| 2466/2466 [33:38<00:00,  1.22it/s]  \n",
      "Some non-default generation parameters are set in the model config. These should go into a GenerationConfig file (https://huggingface.co/docs/transformers/generation_strategies#save-a-custom-decoding-strategy-with-your-model) instead. This warning will be raised to an exception in v4.41.\n",
      "Non-default generation parameters: {'max_length': 256, 'early_stopping': True, 'num_beams': 4, 'length_penalty': 6.0, 'no_repeat_ngram_size': 6}\n"
     ]
    },
    {
     "name": "stdout",
     "output_type": "stream",
     "text": [
      " Loss after epoch 31: 0.015299469274102384\n"
     ]
    },
    {
     "name": "stderr",
     "output_type": "stream",
     "text": [
      "100%|██████████| 137/137 [09:27<00:00,  4.14s/it]\n"
     ]
    },
    {
     "name": "stdout",
     "output_type": "stream",
     "text": [
      "val dataloader length 137\n",
      "Validation SER after epoch 31: 0.019357132495114136\n",
      "Sequences with error(s): 1994\n",
      "\n"
     ]
    },
    {
     "name": "stderr",
     "output_type": "stream",
     "text": [
      "  0%|          | 0/2466 [00:00<?, ?it/s]/localscratch/bisman.18348683.0/lib/python3.10/site-packages/torch/nn/parallel/_functions.py:68: UserWarning: Was asked to gather along dimension 0, but all input tensors were scalars; will instead unsqueeze and return a vector.\n",
      "  warnings.warn('Was asked to gather along dimension 0, but all '\n",
      "100%|██████████| 2466/2466 [32:19<00:00,  1.27it/s]  \n",
      "Some non-default generation parameters are set in the model config. These should go into a GenerationConfig file (https://huggingface.co/docs/transformers/generation_strategies#save-a-custom-decoding-strategy-with-your-model) instead. This warning will be raised to an exception in v4.41.\n",
      "Non-default generation parameters: {'max_length': 256, 'early_stopping': True, 'num_beams': 4, 'length_penalty': 6.0, 'no_repeat_ngram_size': 6}\n"
     ]
    },
    {
     "name": "stdout",
     "output_type": "stream",
     "text": [
      " Loss after epoch 32: 0.014068745656655791\n"
     ]
    },
    {
     "name": "stderr",
     "output_type": "stream",
     "text": [
      "100%|██████████| 137/137 [09:39<00:00,  4.23s/it]\n"
     ]
    },
    {
     "name": "stdout",
     "output_type": "stream",
     "text": [
      "val dataloader length 137\n",
      "Validation SER after epoch 32: 0.01879812035326849\n",
      "Sequences with error(s): 1951\n",
      "\n"
     ]
    },
    {
     "name": "stderr",
     "output_type": "stream",
     "text": [
      "  0%|          | 0/2466 [00:00<?, ?it/s]/localscratch/bisman.18348683.0/lib/python3.10/site-packages/torch/nn/parallel/_functions.py:68: UserWarning: Was asked to gather along dimension 0, but all input tensors were scalars; will instead unsqueeze and return a vector.\n",
      "  warnings.warn('Was asked to gather along dimension 0, but all '\n",
      " 28%|██▊       | 698/2466 [09:20<19:18,  1.53it/s]  IOPub message rate exceeded.\n",
      "The Jupyter server will temporarily stop sending output\n",
      "to the client in order to avoid crashing it.\n",
      "To change this limit, set the config variable\n",
      "`--ServerApp.iopub_msg_rate_limit`.\n",
      "\n",
      "Current values:\n",
      "ServerApp.iopub_msg_rate_limit=1000.0 (msgs/sec)\n",
      "ServerApp.rate_limit_window=3.0 (secs)\n",
      "\n",
      "100%|██████████| 137/137 [09:31<00:00,  4.17s/it]\n"
     ]
    },
    {
     "name": "stdout",
     "output_type": "stream",
     "text": [
      "val dataloader length 137\n",
      "Validation SER after epoch 33: 0.018414213311928298\n",
      "Sequences with error(s): 1914\n",
      "\n"
     ]
    },
    {
     "name": "stderr",
     "output_type": "stream",
     "text": [
      "  0%|          | 0/2466 [00:00<?, ?it/s]/localscratch/bisman.18348683.0/lib/python3.10/site-packages/torch/nn/parallel/_functions.py:68: UserWarning: Was asked to gather along dimension 0, but all input tensors were scalars; will instead unsqueeze and return a vector.\n",
      "  warnings.warn('Was asked to gather along dimension 0, but all '\n",
      "100%|██████████| 2466/2466 [31:51<00:00,  1.29it/s]  \n",
      "Some non-default generation parameters are set in the model config. These should go into a GenerationConfig file (https://huggingface.co/docs/transformers/generation_strategies#save-a-custom-decoding-strategy-with-your-model) instead. This warning will be raised to an exception in v4.41.\n",
      "Non-default generation parameters: {'max_length': 256, 'early_stopping': True, 'num_beams': 4, 'length_penalty': 6.0, 'no_repeat_ngram_size': 6}\n"
     ]
    },
    {
     "name": "stdout",
     "output_type": "stream",
     "text": [
      " Loss after epoch 34: 0.012725740090639096\n"
     ]
    },
    {
     "name": "stderr",
     "output_type": "stream",
     "text": [
      "100%|██████████| 137/137 [09:29<00:00,  4.16s/it]\n"
     ]
    },
    {
     "name": "stdout",
     "output_type": "stream",
     "text": [
      "val dataloader length 137\n",
      "Validation SER after epoch 34: 0.01895560324165666\n",
      "Sequences with error(s): 1965\n",
      "\n"
     ]
    },
    {
     "name": "stderr",
     "output_type": "stream",
     "text": [
      "  0%|          | 0/2466 [00:00<?, ?it/s]/localscratch/bisman.18348683.0/lib/python3.10/site-packages/torch/nn/parallel/_functions.py:68: UserWarning: Was asked to gather along dimension 0, but all input tensors were scalars; will instead unsqueeze and return a vector.\n",
      "  warnings.warn('Was asked to gather along dimension 0, but all '\n",
      "100%|██████████| 2466/2466 [36:19<00:00,  1.13it/s]  \n",
      "Some non-default generation parameters are set in the model config. These should go into a GenerationConfig file (https://huggingface.co/docs/transformers/generation_strategies#save-a-custom-decoding-strategy-with-your-model) instead. This warning will be raised to an exception in v4.41.\n",
      "Non-default generation parameters: {'max_length': 256, 'early_stopping': True, 'num_beams': 4, 'length_penalty': 6.0, 'no_repeat_ngram_size': 6}\n"
     ]
    },
    {
     "name": "stdout",
     "output_type": "stream",
     "text": [
      " Loss after epoch 35: 0.012283540798943348\n"
     ]
    },
    {
     "name": "stderr",
     "output_type": "stream",
     "text": [
      "100%|██████████| 137/137 [09:31<00:00,  4.17s/it]\n"
     ]
    },
    {
     "name": "stdout",
     "output_type": "stream",
     "text": [
      "val dataloader length 137\n",
      "Validation SER after epoch 35: 0.018740226114244536\n",
      "Sequences with error(s): 1942\n",
      "\n"
     ]
    },
    {
     "name": "stderr",
     "output_type": "stream",
     "text": [
      "  0%|          | 0/2466 [00:00<?, ?it/s]/localscratch/bisman.18348683.0/lib/python3.10/site-packages/torch/nn/parallel/_functions.py:68: UserWarning: Was asked to gather along dimension 0, but all input tensors were scalars; will instead unsqueeze and return a vector.\n",
      "  warnings.warn('Was asked to gather along dimension 0, but all '\n",
      "100%|██████████| 2466/2466 [36:47<00:00,  1.12it/s]  \n",
      "Some non-default generation parameters are set in the model config. These should go into a GenerationConfig file (https://huggingface.co/docs/transformers/generation_strategies#save-a-custom-decoding-strategy-with-your-model) instead. This warning will be raised to an exception in v4.41.\n",
      "Non-default generation parameters: {'max_length': 256, 'early_stopping': True, 'num_beams': 4, 'length_penalty': 6.0, 'no_repeat_ngram_size': 6}\n"
     ]
    },
    {
     "name": "stdout",
     "output_type": "stream",
     "text": [
      " Loss after epoch 36: 0.011906339270347881\n"
     ]
    },
    {
     "name": "stderr",
     "output_type": "stream",
     "text": [
      "100%|██████████| 137/137 [09:26<00:00,  4.14s/it]\n"
     ]
    },
    {
     "name": "stdout",
     "output_type": "stream",
     "text": [
      "val dataloader length 137\n",
      "Validation SER after epoch 36: 0.018493398223403307\n",
      "Sequences with error(s): 1918\n",
      "\n"
     ]
    },
    {
     "name": "stderr",
     "output_type": "stream",
     "text": [
      "  0%|          | 0/2466 [00:00<?, ?it/s]/localscratch/bisman.18348683.0/lib/python3.10/site-packages/torch/nn/parallel/_functions.py:68: UserWarning: Was asked to gather along dimension 0, but all input tensors were scalars; will instead unsqueeze and return a vector.\n",
      "  warnings.warn('Was asked to gather along dimension 0, but all '\n",
      "100%|██████████| 2466/2466 [31:39<00:00,  1.30it/s]  \n",
      "Some non-default generation parameters are set in the model config. These should go into a GenerationConfig file (https://huggingface.co/docs/transformers/generation_strategies#save-a-custom-decoding-strategy-with-your-model) instead. This warning will be raised to an exception in v4.41.\n",
      "Non-default generation parameters: {'max_length': 256, 'early_stopping': True, 'num_beams': 4, 'length_penalty': 6.0, 'no_repeat_ngram_size': 6}\n"
     ]
    },
    {
     "name": "stdout",
     "output_type": "stream",
     "text": [
      " Loss after epoch 65: 0.009937709641300327\n"
     ]
    },
    {
     "name": "stderr",
     "output_type": "stream",
     "text": [
      "100%|██████████| 137/137 [09:25<00:00,  4.13s/it]\n"
     ]
    },
    {
     "name": "stdout",
     "output_type": "stream",
     "text": [
      "val dataloader length 137\n",
      "Validation SER after epoch 65: 0.018477441658884396\n",
      "Sequences with error(s): 1919\n",
      "\n"
     ]
    },
    {
     "name": "stderr",
     "output_type": "stream",
     "text": [
      "  0%|          | 0/2466 [00:00<?, ?it/s]/localscratch/bisman.18348683.0/lib/python3.10/site-packages/torch/nn/parallel/_functions.py:68: UserWarning: Was asked to gather along dimension 0, but all input tensors were scalars; will instead unsqueeze and return a vector.\n",
      "  warnings.warn('Was asked to gather along dimension 0, but all '\n",
      "100%|██████████| 2466/2466 [30:50<00:00,  1.33it/s]  \n",
      "Some non-default generation parameters are set in the model config. These should go into a GenerationConfig file (https://huggingface.co/docs/transformers/generation_strategies#save-a-custom-decoding-strategy-with-your-model) instead. This warning will be raised to an exception in v4.41.\n",
      "Non-default generation parameters: {'max_length': 256, 'early_stopping': True, 'num_beams': 4, 'length_penalty': 6.0, 'no_repeat_ngram_size': 6}\n"
     ]
    },
    {
     "name": "stdout",
     "output_type": "stream",
     "text": [
      " Loss after epoch 66: 0.009909846195326068\n"
     ]
    },
    {
     "name": "stderr",
     "output_type": "stream",
     "text": [
      "100%|██████████| 137/137 [09:24<00:00,  4.12s/it]\n"
     ]
    },
    {
     "name": "stdout",
     "output_type": "stream",
     "text": [
      "val dataloader length 137\n",
      "Validation SER after epoch 66: 0.01851758302839631\n",
      "Sequences with error(s): 1921\n",
      "\n"
     ]
    },
    {
     "name": "stderr",
     "output_type": "stream",
     "text": [
      "  0%|          | 0/2466 [00:00<?, ?it/s]/localscratch/bisman.18348683.0/lib/python3.10/site-packages/torch/nn/parallel/_functions.py:68: UserWarning: Was asked to gather along dimension 0, but all input tensors were scalars; will instead unsqueeze and return a vector.\n",
      "  warnings.warn('Was asked to gather along dimension 0, but all '\n",
      "100%|██████████| 2466/2466 [30:56<00:00,  1.33it/s]  \n",
      "Some non-default generation parameters are set in the model config. These should go into a GenerationConfig file (https://huggingface.co/docs/transformers/generation_strategies#save-a-custom-decoding-strategy-with-your-model) instead. This warning will be raised to an exception in v4.41.\n",
      "Non-default generation parameters: {'max_length': 256, 'early_stopping': True, 'num_beams': 4, 'length_penalty': 6.0, 'no_repeat_ngram_size': 6}\n"
     ]
    },
    {
     "name": "stdout",
     "output_type": "stream",
     "text": [
      " Loss after epoch 67: 0.009918985849320782\n"
     ]
    },
    {
     "name": "stderr",
     "output_type": "stream",
     "text": [
      "100%|██████████| 137/137 [09:26<00:00,  4.14s/it]\n"
     ]
    },
    {
     "name": "stdout",
     "output_type": "stream",
     "text": [
      "val dataloader length 137\n",
      "Validation SER after epoch 67: 0.0184719300504211\n",
      "Sequences with error(s): 1920\n",
      "\n"
     ]
    },
    {
     "name": "stderr",
     "output_type": "stream",
     "text": [
      "  0%|          | 0/2466 [00:00<?, ?it/s]/localscratch/bisman.18348683.0/lib/python3.10/site-packages/torch/nn/parallel/_functions.py:68: UserWarning: Was asked to gather along dimension 0, but all input tensors were scalars; will instead unsqueeze and return a vector.\n",
      "  warnings.warn('Was asked to gather along dimension 0, but all '\n",
      "100%|██████████| 2466/2466 [33:48<00:00,  1.22it/s]  \n",
      "Some non-default generation parameters are set in the model config. These should go into a GenerationConfig file (https://huggingface.co/docs/transformers/generation_strategies#save-a-custom-decoding-strategy-with-your-model) instead. This warning will be raised to an exception in v4.41.\n",
      "Non-default generation parameters: {'max_length': 256, 'early_stopping': True, 'num_beams': 4, 'length_penalty': 6.0, 'no_repeat_ngram_size': 6}\n"
     ]
    },
    {
     "name": "stdout",
     "output_type": "stream",
     "text": [
      " Loss after epoch 68: 0.009919977700026193\n"
     ]
    },
    {
     "name": "stderr",
     "output_type": "stream",
     "text": [
      "100%|██████████| 137/137 [09:43<00:00,  4.26s/it]\n"
     ]
    },
    {
     "name": "stdout",
     "output_type": "stream",
     "text": [
      "val dataloader length 137\n",
      "Validation SER after epoch 68: 0.018505984590216493\n",
      "Sequences with error(s): 1921\n",
      "\n"
     ]
    },
    {
     "name": "stderr",
     "output_type": "stream",
     "text": [
      "  0%|          | 0/2466 [00:00<?, ?it/s]/localscratch/bisman.18348683.0/lib/python3.10/site-packages/torch/nn/parallel/_functions.py:68: UserWarning: Was asked to gather along dimension 0, but all input tensors were scalars; will instead unsqueeze and return a vector.\n",
      "  warnings.warn('Was asked to gather along dimension 0, but all '\n",
      "100%|██████████| 2466/2466 [35:20<00:00,  1.16it/s]  \n",
      "Some non-default generation parameters are set in the model config. These should go into a GenerationConfig file (https://huggingface.co/docs/transformers/generation_strategies#save-a-custom-decoding-strategy-with-your-model) instead. This warning will be raised to an exception in v4.41.\n",
      "Non-default generation parameters: {'max_length': 256, 'early_stopping': True, 'num_beams': 4, 'length_penalty': 6.0, 'no_repeat_ngram_size': 6}\n"
     ]
    },
    {
     "name": "stdout",
     "output_type": "stream",
     "text": [
      " Loss after epoch 69: 0.009963344874882818\n"
     ]
    },
    {
     "name": "stderr",
     "output_type": "stream",
     "text": [
      "100%|██████████| 137/137 [09:27<00:00,  4.15s/it]\n"
     ]
    },
    {
     "name": "stdout",
     "output_type": "stream",
     "text": [
      "val dataloader length 137\n",
      "Validation SER after epoch 69: 0.018415069475524133\n",
      "Sequences with error(s): 1913\n",
      "\n"
     ]
    },
    {
     "name": "stderr",
     "output_type": "stream",
     "text": [
      "  0%|          | 0/2466 [00:00<?, ?it/s]/localscratch/bisman.18348683.0/lib/python3.10/site-packages/torch/nn/parallel/_functions.py:68: UserWarning: Was asked to gather along dimension 0, but all input tensors were scalars; will instead unsqueeze and return a vector.\n",
      "  warnings.warn('Was asked to gather along dimension 0, but all '\n",
      "100%|██████████| 2466/2466 [31:13<00:00,  1.32it/s] \n",
      "Some non-default generation parameters are set in the model config. These should go into a GenerationConfig file (https://huggingface.co/docs/transformers/generation_strategies#save-a-custom-decoding-strategy-with-your-model) instead. This warning will be raised to an exception in v4.41.\n",
      "Non-default generation parameters: {'max_length': 256, 'early_stopping': True, 'num_beams': 4, 'length_penalty': 6.0, 'no_repeat_ngram_size': 6}\n"
     ]
    },
    {
     "name": "stdout",
     "output_type": "stream",
     "text": [
      " Loss after epoch 70: 0.009930593622476391\n"
     ]
    },
    {
     "name": "stderr",
     "output_type": "stream",
     "text": [
      "100%|██████████| 137/137 [09:27<00:00,  4.14s/it]\n"
     ]
    },
    {
     "name": "stdout",
     "output_type": "stream",
     "text": [
      "val dataloader length 137\n",
      "Validation SER after epoch 70: 0.01847088706228133\n",
      "Sequences with error(s): 1922\n",
      "\n"
     ]
    },
    {
     "name": "stderr",
     "output_type": "stream",
     "text": [
      "  0%|          | 0/2466 [00:00<?, ?it/s]/localscratch/bisman.18348683.0/lib/python3.10/site-packages/torch/nn/parallel/_functions.py:68: UserWarning: Was asked to gather along dimension 0, but all input tensors were scalars; will instead unsqueeze and return a vector.\n",
      "  warnings.warn('Was asked to gather along dimension 0, but all '\n",
      "100%|██████████| 2466/2466 [28:34<00:00,  1.44it/s] \n",
      "Some non-default generation parameters are set in the model config. These should go into a GenerationConfig file (https://huggingface.co/docs/transformers/generation_strategies#save-a-custom-decoding-strategy-with-your-model) instead. This warning will be raised to an exception in v4.41.\n",
      "Non-default generation parameters: {'max_length': 256, 'early_stopping': True, 'num_beams': 4, 'length_penalty': 6.0, 'no_repeat_ngram_size': 6}\n"
     ]
    },
    {
     "name": "stdout",
     "output_type": "stream",
     "text": [
      " Loss after epoch 71: 0.00990409939634838\n"
     ]
    },
    {
     "name": "stderr",
     "output_type": "stream",
     "text": [
      "100%|██████████| 137/137 [09:27<00:00,  4.14s/it]\n"
     ]
    },
    {
     "name": "stdout",
     "output_type": "stream",
     "text": [
      "val dataloader length 137\n",
      "Validation SER after epoch 71: 0.01843828456336233\n",
      "Sequences with error(s): 1918\n",
      "\n"
     ]
    },
    {
     "name": "stderr",
     "output_type": "stream",
     "text": [
      "  0%|          | 0/2466 [00:00<?, ?it/s]/localscratch/bisman.18348683.0/lib/python3.10/site-packages/torch/nn/parallel/_functions.py:68: UserWarning: Was asked to gather along dimension 0, but all input tensors were scalars; will instead unsqueeze and return a vector.\n",
      "  warnings.warn('Was asked to gather along dimension 0, but all '\n",
      "100%|██████████| 137/137 [09:32<00:00,  4.18s/it]s] \n"
     ]
    },
    {
     "name": "stdout",
     "output_type": "stream",
     "text": [
      "val dataloader length 137\n",
      "Validation SER after epoch 73: 0.018447400425934554\n",
      "Sequences with error(s): 1921\n",
      "\n"
     ]
    },
    {
     "name": "stderr",
     "output_type": "stream",
     "text": [
      "  0%|          | 0/2466 [00:00<?, ?it/s]/localscratch/bisman.18348683.0/lib/python3.10/site-packages/torch/nn/parallel/_functions.py:68: UserWarning: Was asked to gather along dimension 0, but all input tensors were scalars; will instead unsqueeze and return a vector.\n",
      "  warnings.warn('Was asked to gather along dimension 0, but all '\n",
      "100%|██████████| 2466/2466 [32:59<00:00,  1.25it/s]  \n",
      "Some non-default generation parameters are set in the model config. These should go into a GenerationConfig file (https://huggingface.co/docs/transformers/generation_strategies#save-a-custom-decoding-strategy-with-your-model) instead. This warning will be raised to an exception in v4.41.\n",
      "Non-default generation parameters: {'max_length': 256, 'early_stopping': True, 'num_beams': 4, 'length_penalty': 6.0, 'no_repeat_ngram_size': 6}\n"
     ]
    },
    {
     "name": "stdout",
     "output_type": "stream",
     "text": [
      " Loss after epoch 74: 0.00989196885863224\n"
     ]
    },
    {
     "name": "stderr",
     "output_type": "stream",
     "text": [
      "100%|██████████| 137/137 [09:29<00:00,  4.15s/it]\n"
     ]
    },
    {
     "name": "stdout",
     "output_type": "stream",
     "text": [
      "val dataloader length 137\n",
      "Validation SER after epoch 74: 0.01844637343157675\n",
      "Sequences with error(s): 1920\n",
      "\n"
     ]
    },
    {
     "name": "stderr",
     "output_type": "stream",
     "text": [
      "  0%|          | 0/2466 [00:00<?, ?it/s]/localscratch/bisman.18348683.0/lib/python3.10/site-packages/torch/nn/parallel/_functions.py:68: UserWarning: Was asked to gather along dimension 0, but all input tensors were scalars; will instead unsqueeze and return a vector.\n",
      "  warnings.warn('Was asked to gather along dimension 0, but all '\n",
      "100%|██████████| 2466/2466 [29:34<00:00,  1.39it/s]  \n",
      "Some non-default generation parameters are set in the model config. These should go into a GenerationConfig file (https://huggingface.co/docs/transformers/generation_strategies#save-a-custom-decoding-strategy-with-your-model) instead. This warning will be raised to an exception in v4.41.\n",
      "Non-default generation parameters: {'max_length': 256, 'early_stopping': True, 'num_beams': 4, 'length_penalty': 6.0, 'no_repeat_ngram_size': 6}\n"
     ]
    },
    {
     "name": "stdout",
     "output_type": "stream",
     "text": [
      " Loss after epoch 75: 0.009907520830854834\n"
     ]
    },
    {
     "name": "stderr",
     "output_type": "stream",
     "text": [
      "100%|██████████| 137/137 [09:26<00:00,  4.14s/it]\n"
     ]
    },
    {
     "name": "stdout",
     "output_type": "stream",
     "text": [
      "val dataloader length 137\n",
      "Validation SER after epoch 75: 0.018501565650363594\n",
      "Sequences with error(s): 1923\n",
      "\n"
     ]
    },
    {
     "name": "stderr",
     "output_type": "stream",
     "text": [
      "  0%|          | 0/2466 [00:00<?, ?it/s]/localscratch/bisman.18348683.0/lib/python3.10/site-packages/torch/nn/parallel/_functions.py:68: UserWarning: Was asked to gather along dimension 0, but all input tensors were scalars; will instead unsqueeze and return a vector.\n",
      "  warnings.warn('Was asked to gather along dimension 0, but all '\n",
      "100%|██████████| 2466/2466 [31:36<00:00,  1.30it/s]  \n",
      "Some non-default generation parameters are set in the model config. These should go into a GenerationConfig file (https://huggingface.co/docs/transformers/generation_strategies#save-a-custom-decoding-strategy-with-your-model) instead. This warning will be raised to an exception in v4.41.\n",
      "Non-default generation parameters: {'max_length': 256, 'early_stopping': True, 'num_beams': 4, 'length_penalty': 6.0, 'no_repeat_ngram_size': 6}\n"
     ]
    },
    {
     "name": "stdout",
     "output_type": "stream",
     "text": [
      " Loss after epoch 76: 0.00990074714596647\n"
     ]
    },
    {
     "name": "stderr",
     "output_type": "stream",
     "text": [
      "100%|██████████| 137/137 [09:25<00:00,  4.13s/it]\n"
     ]
    },
    {
     "name": "stdout",
     "output_type": "stream",
     "text": [
      "val dataloader length 137\n",
      "Validation SER after epoch 76: 0.018470618774115932\n",
      "Sequences with error(s): 1923\n",
      "\n"
     ]
    },
    {
     "name": "stderr",
     "output_type": "stream",
     "text": [
      "  0%|          | 0/2466 [00:00<?, ?it/s]/localscratch/bisman.18348683.0/lib/python3.10/site-packages/torch/nn/parallel/_functions.py:68: UserWarning: Was asked to gather along dimension 0, but all input tensors were scalars; will instead unsqueeze and return a vector.\n",
      "  warnings.warn('Was asked to gather along dimension 0, but all '\n",
      "100%|██████████| 2466/2466 [32:21<00:00,  1.27it/s]  \n",
      "Some non-default generation parameters are set in the model config. These should go into a GenerationConfig file (https://huggingface.co/docs/transformers/generation_strategies#save-a-custom-decoding-strategy-with-your-model) instead. This warning will be raised to an exception in v4.41.\n",
      "Non-default generation parameters: {'max_length': 256, 'early_stopping': True, 'num_beams': 4, 'length_penalty': 6.0, 'no_repeat_ngram_size': 6}\n"
     ]
    },
    {
     "name": "stdout",
     "output_type": "stream",
     "text": [
      " Loss after epoch 77: 0.009934617860381705\n"
     ]
    },
    {
     "name": "stderr",
     "output_type": "stream",
     "text": [
      "100%|██████████| 137/137 [10:06<00:00,  4.43s/it]\n"
     ]
    },
    {
     "name": "stdout",
     "output_type": "stream",
     "text": [
      "val dataloader length 137\n",
      "Validation SER after epoch 77: 0.018482229426531726\n",
      "Sequences with error(s): 1920\n",
      "\n"
     ]
    },
    {
     "name": "stderr",
     "output_type": "stream",
     "text": [
      "  0%|          | 0/2466 [00:00<?, ?it/s]/localscratch/bisman.18348683.0/lib/python3.10/site-packages/torch/nn/parallel/_functions.py:68: UserWarning: Was asked to gather along dimension 0, but all input tensors were scalars; will instead unsqueeze and return a vector.\n",
      "  warnings.warn('Was asked to gather along dimension 0, but all '\n",
      "100%|██████████| 2466/2466 [34:01<00:00,  1.21it/s]  \n",
      "Some non-default generation parameters are set in the model config. These should go into a GenerationConfig file (https://huggingface.co/docs/transformers/generation_strategies#save-a-custom-decoding-strategy-with-your-model) instead. This warning will be raised to an exception in v4.41.\n",
      "Non-default generation parameters: {'max_length': 256, 'early_stopping': True, 'num_beams': 4, 'length_penalty': 6.0, 'no_repeat_ngram_size': 6}\n"
     ]
    },
    {
     "name": "stdout",
     "output_type": "stream",
     "text": [
      " Loss after epoch 78: 0.009866631447733362\n"
     ]
    },
    {
     "name": "stderr",
     "output_type": "stream",
     "text": [
      "100%|██████████| 137/137 [09:27<00:00,  4.14s/it]\n"
     ]
    },
    {
     "name": "stdout",
     "output_type": "stream",
     "text": [
      "val dataloader length 137\n",
      "Validation SER after epoch 78: 0.0184165717970736\n",
      "Sequences with error(s): 1914\n",
      "\n"
     ]
    },
    {
     "name": "stderr",
     "output_type": "stream",
     "text": [
      "  0%|          | 0/2466 [00:00<?, ?it/s]/localscratch/bisman.18348683.0/lib/python3.10/site-packages/torch/nn/parallel/_functions.py:68: UserWarning: Was asked to gather along dimension 0, but all input tensors were scalars; will instead unsqueeze and return a vector.\n",
      "  warnings.warn('Was asked to gather along dimension 0, but all '\n",
      " 61%|██████    | 1509/2466 [19:27<10:18,  1.55it/s]  "
     ]
    }
   ],
   "source": [
    "from torch.optim import AdamW\n",
    "from tqdm import tqdm\n",
    "from torch.optim.lr_scheduler import ReduceLROnPlateau\n",
    "\n",
    "# optimizer = AdamW(model.parameters(), lr=5e-5, weight_decay=0.01)\n",
    "optimizer = AdamW(model.parameters(), lr=1e-5)\n",
    "scheduler = ReduceLROnPlateau(optimizer, 'min', patience=3)\n",
    "\n",
    "for epoch in range(80):  #Change back to (40)\n",
    "   # train\n",
    "   model.train()\n",
    "   train_loss = 0.0\n",
    "   for batch in tqdm(train_dataloader):\n",
    "      # get the inputs\n",
    "#       print(batch)\n",
    "      for k,v in batch.items():\n",
    "        batch[k] = v.to(device)\n",
    "      # outputs = model(**batch)\n",
    "      outputs = model(pixel_values=batch['pixel_values'], labels=batch['labels'])\n",
    "      loss = outputs.loss\n",
    "      loss=loss.mean()\n",
    "      loss.backward()\n",
    "      optimizer.step()\n",
    "      optimizer.zero_grad()\n",
    "\n",
    "      train_loss += loss.item()\n",
    "   display_result = f\" Loss after epoch {epoch+1}: {train_loss/len(train_dataloader)}\"\n",
    "   print(display_result)\n",
    "   model.module.save_pretrained(f\"epoch_mach3_base4/epoch_{epoch + 1}\")\n",
    "   with open(\"epoch_mach3_base4/results.txt\", \"a\") as myfile:\n",
    "        myfile.write(display_result)\n",
    "    \n",
    "   # validation\n",
    "   model.eval()\n",
    "   valid_wer = 0.0\n",
    "   valid_seq_err = 0\n",
    "   with torch.no_grad():\n",
    "     for batch in tqdm(val_dataloader):\n",
    "       # run batch generation\n",
    "       outputs = model.module.generate(batch[\"pixel_values\"].to(device))\n",
    "       # compute WER (or SER)\n",
    "       wer, seq_err = compute_wer(pred_ids_list=outputs, label_ids_list=batch[\"labels\"])\n",
    "       valid_seq_err += seq_err\n",
    "       valid_wer += wer \n",
    "   scheduler.step(valid_wer / len(val_dataloader))\n",
    "   print(\"val dataloader length\", len(val_dataloader))\n",
    "   display_result = f\"Validation SER after epoch {epoch+1}: {valid_wer / len(val_dataloader)}\\nSequences with error(s): {valid_seq_err}\\n\"\n",
    "   print(display_result)\n",
    "   with open(\"epoch_mach3_base4/results.txt\", \"a\") as myfile:\n",
    "        myfile.write(display_result)\n",
    "\n",
    "model.module.save_pretrained(\"./trained_model\")"
   ]
  },
  {
   "cell_type": "code",
   "execution_count": null,
   "id": "3efc0f0d",
   "metadata": {},
   "outputs": [],
   "source": [
    "# next(iter(train_dataloader))"
   ]
  },
  {
   "cell_type": "code",
   "execution_count": null,
   "id": "64e989e1",
   "metadata": {},
   "outputs": [],
   "source": [
    "# import torch\n",
    "# print(torch.__version__)"
   ]
  },
  {
   "cell_type": "code",
   "execution_count": 19,
   "id": "7360d6a9",
   "metadata": {},
   "outputs": [
    {
     "name": "stdout",
     "output_type": "stream",
     "text": [
      "256\n"
     ]
    },
    {
     "name": "stderr",
     "output_type": "stream",
     "text": [
      "100%|██████████| 137/137 [09:56<00:00,  4.36s/it]\n"
     ]
    }
   ],
   "source": [
    "# from transformers import VisionEncoderDecoderModel\n",
    "# from tqdm import tqdm\n",
    "# tempmodel = VisionEncoderDecoderModel.from_pretrained(\"epoch_mach3_base4/epoch_41\")\n",
    "# print(tempmodel.config.max_length)\n",
    "# import torch.nn as nn\n",
    "# tempmodel= nn.DataParallel(tempmodel)\n",
    "# tempmodel.to(device)\n",
    "# valid_wer = 0.0\n",
    "# valid_seq_err = 0\n",
    "# error_sequences = 0\n",
    "# with torch.no_grad():\n",
    "#     for batch in tqdm(val_dataloader):\n",
    "#    # run batch generation\n",
    "#         outputs = tempmodel.module.generate(batch[\"pixel_values\"].to(device), num_beams=4, early_stopping=False, length_penalty = 2, max_length = 256)\n",
    "#    # compute WER (or SER)\n",
    "#         wer, seq_err = compute_wer(pred_ids_list=outputs, label_ids_list=batch[\"labels\"])\n",
    "#         valid_seq_err += seq_err\n",
    "#         valid_wer += wer \n",
    "\n",
    "# final_test = f\" Final Validation WER beams=4 :  {valid_wer / len(val_dataloader)} ; Sequences Errors: {error_sequences} \"\n",
    "# with open(\"epoch_mach3_base/results.txt\", \"a\") as myfile:\n",
    "#         myfile.write(final_test)"
   ]
  },
  {
   "cell_type": "code",
   "execution_count": null,
   "id": "ae7bb2f6",
   "metadata": {},
   "outputs": [],
   "source": [
    "# print(final_test)"
   ]
  }
 ],
 "metadata": {
  "kernelspec": {
   "display_name": "Python 3.11",
   "language": "python",
   "name": "python3"
  },
  "language_info": {
   "codemirror_mode": {
    "name": "ipython",
    "version": 3
   },
   "file_extension": ".py",
   "mimetype": "text/x-python",
   "name": "python",
   "nbconvert_exporter": "python",
   "pygments_lexer": "ipython3",
   "version": "3.10.13"
  }
 },
 "nbformat": 4,
 "nbformat_minor": 5
}
